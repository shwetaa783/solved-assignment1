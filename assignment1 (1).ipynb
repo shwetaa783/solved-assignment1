{
 "cells": [
  {
   "cell_type": "code",
   "execution_count": 1,
   "id": "03f0d308-2f5b-4087-931f-f5cb2865274c",
   "metadata": {},
   "outputs": [],
   "source": [
    "#convert an integer to a floating no"
   ]
  },
  {
   "cell_type": "code",
   "execution_count": 2,
   "id": "e951bac6-ef0d-489c-aa02-411c838afac6",
   "metadata": {},
   "outputs": [],
   "source": [
    "a=10"
   ]
  },
  {
   "cell_type": "code",
   "execution_count": 3,
   "id": "109a64a6-4f8e-48b5-9825-d1f3220b5cfb",
   "metadata": {},
   "outputs": [
    {
     "data": {
      "text/plain": [
       "int"
      ]
     },
     "execution_count": 3,
     "metadata": {},
     "output_type": "execute_result"
    }
   ],
   "source": [
    "type(a)"
   ]
  },
  {
   "cell_type": "code",
   "execution_count": 4,
   "id": "45567333-e6a8-4fc0-ba2f-5919bd432c19",
   "metadata": {},
   "outputs": [
    {
     "data": {
      "text/plain": [
       "10.0"
      ]
     },
     "execution_count": 4,
     "metadata": {},
     "output_type": "execute_result"
    }
   ],
   "source": [
    "float(a)"
   ]
  },
  {
   "cell_type": "code",
   "execution_count": 5,
   "id": "4efccb96-af92-465d-986c-20a2421205f6",
   "metadata": {},
   "outputs": [],
   "source": [
    "#convert a float to an integer"
   ]
  },
  {
   "cell_type": "code",
   "execution_count": 6,
   "id": "b60ee63c-6219-4618-882e-5e0e789c9fe1",
   "metadata": {},
   "outputs": [],
   "source": [
    "a=10"
   ]
  },
  {
   "cell_type": "code",
   "execution_count": 7,
   "id": "ae89513e-48ef-4d11-a2ba-4b2d2f620255",
   "metadata": {},
   "outputs": [
    {
     "data": {
      "text/plain": [
       "10.0"
      ]
     },
     "execution_count": 7,
     "metadata": {},
     "output_type": "execute_result"
    }
   ],
   "source": [
    "float(a)"
   ]
  },
  {
   "cell_type": "code",
   "execution_count": 8,
   "id": "7f5e3cea-6d49-4540-813f-e0a7abe183cd",
   "metadata": {},
   "outputs": [
    {
     "data": {
      "text/plain": [
       "int"
      ]
     },
     "execution_count": 8,
     "metadata": {},
     "output_type": "execute_result"
    }
   ],
   "source": [
    "type(a)"
   ]
  },
  {
   "cell_type": "code",
   "execution_count": 9,
   "id": "e56dcd8d-e51d-40df-bd0e-7f1c5b7b75ea",
   "metadata": {},
   "outputs": [],
   "source": [
    "#convert an integer to a string"
   ]
  },
  {
   "cell_type": "code",
   "execution_count": 10,
   "id": "c733b9b2-4aa0-486b-9378-c3c66d3ff085",
   "metadata": {},
   "outputs": [],
   "source": [
    "a=10"
   ]
  },
  {
   "cell_type": "code",
   "execution_count": 11,
   "id": "a8aa1e66-20ca-435c-9409-7618eed1f104",
   "metadata": {},
   "outputs": [
    {
     "data": {
      "text/plain": [
       "int"
      ]
     },
     "execution_count": 11,
     "metadata": {},
     "output_type": "execute_result"
    }
   ],
   "source": [
    "type(a)"
   ]
  },
  {
   "cell_type": "code",
   "execution_count": 12,
   "id": "5e0408f0-ca96-4004-a034-3c76defe975b",
   "metadata": {},
   "outputs": [],
   "source": [
    "a='10'"
   ]
  },
  {
   "cell_type": "code",
   "execution_count": 13,
   "id": "d246df5d-39dc-4e77-9fad-9c806764ac4b",
   "metadata": {},
   "outputs": [
    {
     "data": {
      "text/plain": [
       "str"
      ]
     },
     "execution_count": 13,
     "metadata": {},
     "output_type": "execute_result"
    }
   ],
   "source": [
    "type(a)"
   ]
  },
  {
   "cell_type": "code",
   "execution_count": 14,
   "id": "fa8f2d9d-53d3-44ca-b179-6ee919914b6f",
   "metadata": {},
   "outputs": [],
   "source": [
    "#converta list to a tuple"
   ]
  },
  {
   "cell_type": "code",
   "execution_count": 16,
   "id": "2fc03b2f-61a6-42f8-acc5-d9b8313b319f",
   "metadata": {},
   "outputs": [],
   "source": [
    "l=[1,'shweta','True',1+2j]"
   ]
  },
  {
   "cell_type": "code",
   "execution_count": 17,
   "id": "38170312-6817-4def-9298-c632f4a0f195",
   "metadata": {},
   "outputs": [
    {
     "data": {
      "text/plain": [
       "list"
      ]
     },
     "execution_count": 17,
     "metadata": {},
     "output_type": "execute_result"
    }
   ],
   "source": [
    "type(l)"
   ]
  },
  {
   "cell_type": "code",
   "execution_count": 19,
   "id": "c13ab784-3b51-42c8-87d6-4efd31a0a616",
   "metadata": {},
   "outputs": [],
   "source": [
    "l=(1,'shweta','True',1+2j)"
   ]
  },
  {
   "cell_type": "code",
   "execution_count": 20,
   "id": "4e5f7b6a-64e0-46d1-9826-d0a603df6357",
   "metadata": {},
   "outputs": [
    {
     "data": {
      "text/plain": [
       "tuple"
      ]
     },
     "execution_count": 20,
     "metadata": {},
     "output_type": "execute_result"
    }
   ],
   "source": [
    "type(l)"
   ]
  },
  {
   "cell_type": "code",
   "execution_count": 21,
   "id": "adb66c91-f83a-44f2-8d7d-f5fa19f6d1c1",
   "metadata": {},
   "outputs": [],
   "source": [
    "#convert a tuple to a list"
   ]
  },
  {
   "cell_type": "code",
   "execution_count": 22,
   "id": "d3ea3bb5-cc29-42f0-95a2-595ffdc5e87a",
   "metadata": {},
   "outputs": [],
   "source": [
    "l=(1,2,1+2j)"
   ]
  },
  {
   "cell_type": "code",
   "execution_count": 23,
   "id": "78789979-10bf-433c-907e-356a68b18f5e",
   "metadata": {},
   "outputs": [
    {
     "data": {
      "text/plain": [
       "tuple"
      ]
     },
     "execution_count": 23,
     "metadata": {},
     "output_type": "execute_result"
    }
   ],
   "source": [
    "type(l)"
   ]
  },
  {
   "cell_type": "code",
   "execution_count": 24,
   "id": "2d40e001-9e19-42ea-ad48-38ea4c0993d5",
   "metadata": {},
   "outputs": [],
   "source": [
    "l=[1,2,1+2j]"
   ]
  },
  {
   "cell_type": "code",
   "execution_count": 25,
   "id": "d39ce225-e982-4233-a5ab-63a2f8375c1e",
   "metadata": {},
   "outputs": [
    {
     "data": {
      "text/plain": [
       "list"
      ]
     },
     "execution_count": 25,
     "metadata": {},
     "output_type": "execute_result"
    }
   ],
   "source": [
    "type(l)"
   ]
  },
  {
   "cell_type": "code",
   "execution_count": 26,
   "id": "8d1300f4-b9e2-4bf1-9dd0-555dbef94c67",
   "metadata": {},
   "outputs": [],
   "source": [
    "#convert a decimal number to binary"
   ]
  },
  {
   "cell_type": "code",
   "execution_count": 4,
   "id": "2974a699-a73f-4ecf-834b-9e89fd9fb386",
   "metadata": {},
   "outputs": [
    {
     "name": "stdin",
     "output_type": "stream",
     "text": [
      "any number 6\n"
     ]
    },
    {
     "name": "stdout",
     "output_type": "stream",
     "text": [
      "[0, 1, 1]\n"
     ]
    }
   ],
   "source": [
    "n=int(input('any number'))\n",
    "l=list()\n",
    "while n!=0:\n",
    "    r=n%2\n",
    "    l.append(r)\n",
    "    n=n//2\n",
    "print(l)"
   ]
  },
  {
   "cell_type": "code",
   "execution_count": 5,
   "id": "c61274a4-d111-4672-a374-0cbbb48dd797",
   "metadata": {},
   "outputs": [],
   "source": [
    "#convert a non zero n0 to boolean"
   ]
  },
  {
   "cell_type": "code",
   "execution_count": 6,
   "id": "5a81398d-10bb-4529-a5ef-8683bc41bc7b",
   "metadata": {},
   "outputs": [],
   "source": [
    "a=10"
   ]
  },
  {
   "cell_type": "code",
   "execution_count": 7,
   "id": "7c842bbb-2a1a-4b19-91d0-621e3b0951d8",
   "metadata": {},
   "outputs": [
    {
     "data": {
      "text/plain": [
       "True"
      ]
     },
     "execution_count": 7,
     "metadata": {},
     "output_type": "execute_result"
    }
   ],
   "source": [
    "bool(a)"
   ]
  },
  {
   "cell_type": "code",
   "execution_count": null,
   "id": "b03a1bf1-c80a-40cf-b607-08b69ba9f8e6",
   "metadata": {},
   "outputs": [],
   "source": []
  }
 ],
 "metadata": {
  "kernelspec": {
   "display_name": "Python 3 (ipykernel)",
   "language": "python",
   "name": "python3"
  },
  "language_info": {
   "codemirror_mode": {
    "name": "ipython",
    "version": 3
   },
   "file_extension": ".py",
   "mimetype": "text/x-python",
   "name": "python",
   "nbconvert_exporter": "python",
   "pygments_lexer": "ipython3",
   "version": "3.10.8"
  }
 },
 "nbformat": 4,
 "nbformat_minor": 5
}
